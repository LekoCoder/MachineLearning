{
  "nbformat": 4,
  "nbformat_minor": 0,
  "metadata": {
    "colab": {
      "name": "Gender_Classification_With_Names.ipynb",
      "provenance": [],
      "authorship_tag": "ABX9TyNEn2WN+PK5Sg4Zd4zPIrbe",
      "include_colab_link": true
    },
    "kernelspec": {
      "name": "python3",
      "display_name": "Python 3"
    },
    "language_info": {
      "name": "python"
    }
  },
  "cells": [
    {
      "cell_type": "markdown",
      "metadata": {
        "id": "view-in-github",
        "colab_type": "text"
      },
      "source": [
        "<a href=\"https://colab.research.google.com/github/TheQuanEnthusiast/MachineLearning/blob/main/Gender_Classification_With_Names.ipynb\" target=\"_parent\"><img src=\"https://colab.research.google.com/assets/colab-badge.svg\" alt=\"Open In Colab\"/></a>"
      ]
    },
    {
      "cell_type": "markdown",
      "source": [
        "## Data Preparing"
      ],
      "metadata": {
        "id": "8ZKVr5IO3Mev"
      }
    },
    {
      "cell_type": "code",
      "execution_count": 1,
      "metadata": {
        "id": "nglABUTZvMWC"
      },
      "outputs": [],
      "source": [
        "import numpy as np\n",
        "import pandas as pd"
      ]
    },
    {
      "cell_type": "code",
      "source": [
        "d1 = pd.read_csv('/content/female.csv', header=None)"
      ],
      "metadata": {
        "id": "aOeVjMyqvuI8"
      },
      "execution_count": 6,
      "outputs": []
    },
    {
      "cell_type": "code",
      "source": [
        "d2 = pd.read_csv('/content/male.csv', header=None)"
      ],
      "metadata": {
        "id": "ZXt2M3fCvxXi"
      },
      "execution_count": 7,
      "outputs": []
    },
    {
      "cell_type": "code",
      "source": [
        "d1.head()"
      ],
      "metadata": {
        "colab": {
          "base_uri": "https://localhost:8080/",
          "height": 206
        },
        "id": "0R2NqOUGv5Bk",
        "outputId": "0d6fd61f-6224-45eb-f3e0-5725f7db78b4"
      },
      "execution_count": 8,
      "outputs": [
        {
          "output_type": "execute_result",
          "data": {
            "text/plain": [
              "         0\n",
              "0  Abagael\n",
              "1  Abagail\n",
              "2     Abbe\n",
              "3    Abbey\n",
              "4     Abbi"
            ],
            "text/html": [
              "\n",
              "  <div id=\"df-c958d603-1974-4aac-b396-f43cfba9f1f1\">\n",
              "    <div class=\"colab-df-container\">\n",
              "      <div>\n",
              "<style scoped>\n",
              "    .dataframe tbody tr th:only-of-type {\n",
              "        vertical-align: middle;\n",
              "    }\n",
              "\n",
              "    .dataframe tbody tr th {\n",
              "        vertical-align: top;\n",
              "    }\n",
              "\n",
              "    .dataframe thead th {\n",
              "        text-align: right;\n",
              "    }\n",
              "</style>\n",
              "<table border=\"1\" class=\"dataframe\">\n",
              "  <thead>\n",
              "    <tr style=\"text-align: right;\">\n",
              "      <th></th>\n",
              "      <th>0</th>\n",
              "    </tr>\n",
              "  </thead>\n",
              "  <tbody>\n",
              "    <tr>\n",
              "      <th>0</th>\n",
              "      <td>Abagael</td>\n",
              "    </tr>\n",
              "    <tr>\n",
              "      <th>1</th>\n",
              "      <td>Abagail</td>\n",
              "    </tr>\n",
              "    <tr>\n",
              "      <th>2</th>\n",
              "      <td>Abbe</td>\n",
              "    </tr>\n",
              "    <tr>\n",
              "      <th>3</th>\n",
              "      <td>Abbey</td>\n",
              "    </tr>\n",
              "    <tr>\n",
              "      <th>4</th>\n",
              "      <td>Abbi</td>\n",
              "    </tr>\n",
              "  </tbody>\n",
              "</table>\n",
              "</div>\n",
              "      <button class=\"colab-df-convert\" onclick=\"convertToInteractive('df-c958d603-1974-4aac-b396-f43cfba9f1f1')\"\n",
              "              title=\"Convert this dataframe to an interactive table.\"\n",
              "              style=\"display:none;\">\n",
              "        \n",
              "  <svg xmlns=\"http://www.w3.org/2000/svg\" height=\"24px\"viewBox=\"0 0 24 24\"\n",
              "       width=\"24px\">\n",
              "    <path d=\"M0 0h24v24H0V0z\" fill=\"none\"/>\n",
              "    <path d=\"M18.56 5.44l.94 2.06.94-2.06 2.06-.94-2.06-.94-.94-2.06-.94 2.06-2.06.94zm-11 1L8.5 8.5l.94-2.06 2.06-.94-2.06-.94L8.5 2.5l-.94 2.06-2.06.94zm10 10l.94 2.06.94-2.06 2.06-.94-2.06-.94-.94-2.06-.94 2.06-2.06.94z\"/><path d=\"M17.41 7.96l-1.37-1.37c-.4-.4-.92-.59-1.43-.59-.52 0-1.04.2-1.43.59L10.3 9.45l-7.72 7.72c-.78.78-.78 2.05 0 2.83L4 21.41c.39.39.9.59 1.41.59.51 0 1.02-.2 1.41-.59l7.78-7.78 2.81-2.81c.8-.78.8-2.07 0-2.86zM5.41 20L4 18.59l7.72-7.72 1.47 1.35L5.41 20z\"/>\n",
              "  </svg>\n",
              "      </button>\n",
              "      \n",
              "  <style>\n",
              "    .colab-df-container {\n",
              "      display:flex;\n",
              "      flex-wrap:wrap;\n",
              "      gap: 12px;\n",
              "    }\n",
              "\n",
              "    .colab-df-convert {\n",
              "      background-color: #E8F0FE;\n",
              "      border: none;\n",
              "      border-radius: 50%;\n",
              "      cursor: pointer;\n",
              "      display: none;\n",
              "      fill: #1967D2;\n",
              "      height: 32px;\n",
              "      padding: 0 0 0 0;\n",
              "      width: 32px;\n",
              "    }\n",
              "\n",
              "    .colab-df-convert:hover {\n",
              "      background-color: #E2EBFA;\n",
              "      box-shadow: 0px 1px 2px rgba(60, 64, 67, 0.3), 0px 1px 3px 1px rgba(60, 64, 67, 0.15);\n",
              "      fill: #174EA6;\n",
              "    }\n",
              "\n",
              "    [theme=dark] .colab-df-convert {\n",
              "      background-color: #3B4455;\n",
              "      fill: #D2E3FC;\n",
              "    }\n",
              "\n",
              "    [theme=dark] .colab-df-convert:hover {\n",
              "      background-color: #434B5C;\n",
              "      box-shadow: 0px 1px 3px 1px rgba(0, 0, 0, 0.15);\n",
              "      filter: drop-shadow(0px 1px 2px rgba(0, 0, 0, 0.3));\n",
              "      fill: #FFFFFF;\n",
              "    }\n",
              "  </style>\n",
              "\n",
              "      <script>\n",
              "        const buttonEl =\n",
              "          document.querySelector('#df-c958d603-1974-4aac-b396-f43cfba9f1f1 button.colab-df-convert');\n",
              "        buttonEl.style.display =\n",
              "          google.colab.kernel.accessAllowed ? 'block' : 'none';\n",
              "\n",
              "        async function convertToInteractive(key) {\n",
              "          const element = document.querySelector('#df-c958d603-1974-4aac-b396-f43cfba9f1f1');\n",
              "          const dataTable =\n",
              "            await google.colab.kernel.invokeFunction('convertToInteractive',\n",
              "                                                     [key], {});\n",
              "          if (!dataTable) return;\n",
              "\n",
              "          const docLinkHtml = 'Like what you see? Visit the ' +\n",
              "            '<a target=\"_blank\" href=https://colab.research.google.com/notebooks/data_table.ipynb>data table notebook</a>'\n",
              "            + ' to learn more about interactive tables.';\n",
              "          element.innerHTML = '';\n",
              "          dataTable['output_type'] = 'display_data';\n",
              "          await google.colab.output.renderOutput(dataTable, element);\n",
              "          const docLink = document.createElement('div');\n",
              "          docLink.innerHTML = docLinkHtml;\n",
              "          element.appendChild(docLink);\n",
              "        }\n",
              "      </script>\n",
              "    </div>\n",
              "  </div>\n",
              "  "
            ]
          },
          "metadata": {},
          "execution_count": 8
        }
      ]
    },
    {
      "cell_type": "code",
      "source": [
        "d2.head()"
      ],
      "metadata": {
        "colab": {
          "base_uri": "https://localhost:8080/",
          "height": 206
        },
        "id": "g82itcI9v82h",
        "outputId": "bb647437-777f-4376-a85f-91a36294a263"
      },
      "execution_count": 9,
      "outputs": [
        {
          "output_type": "execute_result",
          "data": {
            "text/plain": [
              "       0\n",
              "0  Aamir\n",
              "1  Aaron\n",
              "2  Abbey\n",
              "3  Abbie\n",
              "4  Abbot"
            ],
            "text/html": [
              "\n",
              "  <div id=\"df-a2dae599-0d86-4904-bd4c-383df9e7a301\">\n",
              "    <div class=\"colab-df-container\">\n",
              "      <div>\n",
              "<style scoped>\n",
              "    .dataframe tbody tr th:only-of-type {\n",
              "        vertical-align: middle;\n",
              "    }\n",
              "\n",
              "    .dataframe tbody tr th {\n",
              "        vertical-align: top;\n",
              "    }\n",
              "\n",
              "    .dataframe thead th {\n",
              "        text-align: right;\n",
              "    }\n",
              "</style>\n",
              "<table border=\"1\" class=\"dataframe\">\n",
              "  <thead>\n",
              "    <tr style=\"text-align: right;\">\n",
              "      <th></th>\n",
              "      <th>0</th>\n",
              "    </tr>\n",
              "  </thead>\n",
              "  <tbody>\n",
              "    <tr>\n",
              "      <th>0</th>\n",
              "      <td>Aamir</td>\n",
              "    </tr>\n",
              "    <tr>\n",
              "      <th>1</th>\n",
              "      <td>Aaron</td>\n",
              "    </tr>\n",
              "    <tr>\n",
              "      <th>2</th>\n",
              "      <td>Abbey</td>\n",
              "    </tr>\n",
              "    <tr>\n",
              "      <th>3</th>\n",
              "      <td>Abbie</td>\n",
              "    </tr>\n",
              "    <tr>\n",
              "      <th>4</th>\n",
              "      <td>Abbot</td>\n",
              "    </tr>\n",
              "  </tbody>\n",
              "</table>\n",
              "</div>\n",
              "      <button class=\"colab-df-convert\" onclick=\"convertToInteractive('df-a2dae599-0d86-4904-bd4c-383df9e7a301')\"\n",
              "              title=\"Convert this dataframe to an interactive table.\"\n",
              "              style=\"display:none;\">\n",
              "        \n",
              "  <svg xmlns=\"http://www.w3.org/2000/svg\" height=\"24px\"viewBox=\"0 0 24 24\"\n",
              "       width=\"24px\">\n",
              "    <path d=\"M0 0h24v24H0V0z\" fill=\"none\"/>\n",
              "    <path d=\"M18.56 5.44l.94 2.06.94-2.06 2.06-.94-2.06-.94-.94-2.06-.94 2.06-2.06.94zm-11 1L8.5 8.5l.94-2.06 2.06-.94-2.06-.94L8.5 2.5l-.94 2.06-2.06.94zm10 10l.94 2.06.94-2.06 2.06-.94-2.06-.94-.94-2.06-.94 2.06-2.06.94z\"/><path d=\"M17.41 7.96l-1.37-1.37c-.4-.4-.92-.59-1.43-.59-.52 0-1.04.2-1.43.59L10.3 9.45l-7.72 7.72c-.78.78-.78 2.05 0 2.83L4 21.41c.39.39.9.59 1.41.59.51 0 1.02-.2 1.41-.59l7.78-7.78 2.81-2.81c.8-.78.8-2.07 0-2.86zM5.41 20L4 18.59l7.72-7.72 1.47 1.35L5.41 20z\"/>\n",
              "  </svg>\n",
              "      </button>\n",
              "      \n",
              "  <style>\n",
              "    .colab-df-container {\n",
              "      display:flex;\n",
              "      flex-wrap:wrap;\n",
              "      gap: 12px;\n",
              "    }\n",
              "\n",
              "    .colab-df-convert {\n",
              "      background-color: #E8F0FE;\n",
              "      border: none;\n",
              "      border-radius: 50%;\n",
              "      cursor: pointer;\n",
              "      display: none;\n",
              "      fill: #1967D2;\n",
              "      height: 32px;\n",
              "      padding: 0 0 0 0;\n",
              "      width: 32px;\n",
              "    }\n",
              "\n",
              "    .colab-df-convert:hover {\n",
              "      background-color: #E2EBFA;\n",
              "      box-shadow: 0px 1px 2px rgba(60, 64, 67, 0.3), 0px 1px 3px 1px rgba(60, 64, 67, 0.15);\n",
              "      fill: #174EA6;\n",
              "    }\n",
              "\n",
              "    [theme=dark] .colab-df-convert {\n",
              "      background-color: #3B4455;\n",
              "      fill: #D2E3FC;\n",
              "    }\n",
              "\n",
              "    [theme=dark] .colab-df-convert:hover {\n",
              "      background-color: #434B5C;\n",
              "      box-shadow: 0px 1px 3px 1px rgba(0, 0, 0, 0.15);\n",
              "      filter: drop-shadow(0px 1px 2px rgba(0, 0, 0, 0.3));\n",
              "      fill: #FFFFFF;\n",
              "    }\n",
              "  </style>\n",
              "\n",
              "      <script>\n",
              "        const buttonEl =\n",
              "          document.querySelector('#df-a2dae599-0d86-4904-bd4c-383df9e7a301 button.colab-df-convert');\n",
              "        buttonEl.style.display =\n",
              "          google.colab.kernel.accessAllowed ? 'block' : 'none';\n",
              "\n",
              "        async function convertToInteractive(key) {\n",
              "          const element = document.querySelector('#df-a2dae599-0d86-4904-bd4c-383df9e7a301');\n",
              "          const dataTable =\n",
              "            await google.colab.kernel.invokeFunction('convertToInteractive',\n",
              "                                                     [key], {});\n",
              "          if (!dataTable) return;\n",
              "\n",
              "          const docLinkHtml = 'Like what you see? Visit the ' +\n",
              "            '<a target=\"_blank\" href=https://colab.research.google.com/notebooks/data_table.ipynb>data table notebook</a>'\n",
              "            + ' to learn more about interactive tables.';\n",
              "          element.innerHTML = '';\n",
              "          dataTable['output_type'] = 'display_data';\n",
              "          await google.colab.output.renderOutput(dataTable, element);\n",
              "          const docLink = document.createElement('div');\n",
              "          docLink.innerHTML = docLinkHtml;\n",
              "          element.appendChild(docLink);\n",
              "        }\n",
              "      </script>\n",
              "    </div>\n",
              "  </div>\n",
              "  "
            ]
          },
          "metadata": {},
          "execution_count": 9
        }
      ]
    },
    {
      "cell_type": "code",
      "source": [
        "#Let's assign column name 'name' to our DataFrame\n",
        "d1.columns = ['name']\n",
        "d2.columns = ['name']"
      ],
      "metadata": {
        "id": "3vpBDK_Fv-fm"
      },
      "execution_count": 11,
      "outputs": []
    },
    {
      "cell_type": "code",
      "source": [
        "d1.head()"
      ],
      "metadata": {
        "colab": {
          "base_uri": "https://localhost:8080/",
          "height": 206
        },
        "id": "Mqy46C-_wYgd",
        "outputId": "b881a4a8-6273-451c-9519-6592d4371803"
      },
      "execution_count": 12,
      "outputs": [
        {
          "output_type": "execute_result",
          "data": {
            "text/plain": [
              "      name\n",
              "0  Abagael\n",
              "1  Abagail\n",
              "2     Abbe\n",
              "3    Abbey\n",
              "4     Abbi"
            ],
            "text/html": [
              "\n",
              "  <div id=\"df-0c9203c9-d9be-42e5-a27d-5949dd795d43\">\n",
              "    <div class=\"colab-df-container\">\n",
              "      <div>\n",
              "<style scoped>\n",
              "    .dataframe tbody tr th:only-of-type {\n",
              "        vertical-align: middle;\n",
              "    }\n",
              "\n",
              "    .dataframe tbody tr th {\n",
              "        vertical-align: top;\n",
              "    }\n",
              "\n",
              "    .dataframe thead th {\n",
              "        text-align: right;\n",
              "    }\n",
              "</style>\n",
              "<table border=\"1\" class=\"dataframe\">\n",
              "  <thead>\n",
              "    <tr style=\"text-align: right;\">\n",
              "      <th></th>\n",
              "      <th>name</th>\n",
              "    </tr>\n",
              "  </thead>\n",
              "  <tbody>\n",
              "    <tr>\n",
              "      <th>0</th>\n",
              "      <td>Abagael</td>\n",
              "    </tr>\n",
              "    <tr>\n",
              "      <th>1</th>\n",
              "      <td>Abagail</td>\n",
              "    </tr>\n",
              "    <tr>\n",
              "      <th>2</th>\n",
              "      <td>Abbe</td>\n",
              "    </tr>\n",
              "    <tr>\n",
              "      <th>3</th>\n",
              "      <td>Abbey</td>\n",
              "    </tr>\n",
              "    <tr>\n",
              "      <th>4</th>\n",
              "      <td>Abbi</td>\n",
              "    </tr>\n",
              "  </tbody>\n",
              "</table>\n",
              "</div>\n",
              "      <button class=\"colab-df-convert\" onclick=\"convertToInteractive('df-0c9203c9-d9be-42e5-a27d-5949dd795d43')\"\n",
              "              title=\"Convert this dataframe to an interactive table.\"\n",
              "              style=\"display:none;\">\n",
              "        \n",
              "  <svg xmlns=\"http://www.w3.org/2000/svg\" height=\"24px\"viewBox=\"0 0 24 24\"\n",
              "       width=\"24px\">\n",
              "    <path d=\"M0 0h24v24H0V0z\" fill=\"none\"/>\n",
              "    <path d=\"M18.56 5.44l.94 2.06.94-2.06 2.06-.94-2.06-.94-.94-2.06-.94 2.06-2.06.94zm-11 1L8.5 8.5l.94-2.06 2.06-.94-2.06-.94L8.5 2.5l-.94 2.06-2.06.94zm10 10l.94 2.06.94-2.06 2.06-.94-2.06-.94-.94-2.06-.94 2.06-2.06.94z\"/><path d=\"M17.41 7.96l-1.37-1.37c-.4-.4-.92-.59-1.43-.59-.52 0-1.04.2-1.43.59L10.3 9.45l-7.72 7.72c-.78.78-.78 2.05 0 2.83L4 21.41c.39.39.9.59 1.41.59.51 0 1.02-.2 1.41-.59l7.78-7.78 2.81-2.81c.8-.78.8-2.07 0-2.86zM5.41 20L4 18.59l7.72-7.72 1.47 1.35L5.41 20z\"/>\n",
              "  </svg>\n",
              "      </button>\n",
              "      \n",
              "  <style>\n",
              "    .colab-df-container {\n",
              "      display:flex;\n",
              "      flex-wrap:wrap;\n",
              "      gap: 12px;\n",
              "    }\n",
              "\n",
              "    .colab-df-convert {\n",
              "      background-color: #E8F0FE;\n",
              "      border: none;\n",
              "      border-radius: 50%;\n",
              "      cursor: pointer;\n",
              "      display: none;\n",
              "      fill: #1967D2;\n",
              "      height: 32px;\n",
              "      padding: 0 0 0 0;\n",
              "      width: 32px;\n",
              "    }\n",
              "\n",
              "    .colab-df-convert:hover {\n",
              "      background-color: #E2EBFA;\n",
              "      box-shadow: 0px 1px 2px rgba(60, 64, 67, 0.3), 0px 1px 3px 1px rgba(60, 64, 67, 0.15);\n",
              "      fill: #174EA6;\n",
              "    }\n",
              "\n",
              "    [theme=dark] .colab-df-convert {\n",
              "      background-color: #3B4455;\n",
              "      fill: #D2E3FC;\n",
              "    }\n",
              "\n",
              "    [theme=dark] .colab-df-convert:hover {\n",
              "      background-color: #434B5C;\n",
              "      box-shadow: 0px 1px 3px 1px rgba(0, 0, 0, 0.15);\n",
              "      filter: drop-shadow(0px 1px 2px rgba(0, 0, 0, 0.3));\n",
              "      fill: #FFFFFF;\n",
              "    }\n",
              "  </style>\n",
              "\n",
              "      <script>\n",
              "        const buttonEl =\n",
              "          document.querySelector('#df-0c9203c9-d9be-42e5-a27d-5949dd795d43 button.colab-df-convert');\n",
              "        buttonEl.style.display =\n",
              "          google.colab.kernel.accessAllowed ? 'block' : 'none';\n",
              "\n",
              "        async function convertToInteractive(key) {\n",
              "          const element = document.querySelector('#df-0c9203c9-d9be-42e5-a27d-5949dd795d43');\n",
              "          const dataTable =\n",
              "            await google.colab.kernel.invokeFunction('convertToInteractive',\n",
              "                                                     [key], {});\n",
              "          if (!dataTable) return;\n",
              "\n",
              "          const docLinkHtml = 'Like what you see? Visit the ' +\n",
              "            '<a target=\"_blank\" href=https://colab.research.google.com/notebooks/data_table.ipynb>data table notebook</a>'\n",
              "            + ' to learn more about interactive tables.';\n",
              "          element.innerHTML = '';\n",
              "          dataTable['output_type'] = 'display_data';\n",
              "          await google.colab.output.renderOutput(dataTable, element);\n",
              "          const docLink = document.createElement('div');\n",
              "          docLink.innerHTML = docLinkHtml;\n",
              "          element.appendChild(docLink);\n",
              "        }\n",
              "      </script>\n",
              "    </div>\n",
              "  </div>\n",
              "  "
            ]
          },
          "metadata": {},
          "execution_count": 12
        }
      ]
    },
    {
      "cell_type": "code",
      "source": [
        "d2.head()"
      ],
      "metadata": {
        "colab": {
          "base_uri": "https://localhost:8080/",
          "height": 206
        },
        "id": "lIf7htMawd7N",
        "outputId": "a1a4175a-2179-4b83-d499-865045e778b0"
      },
      "execution_count": 13,
      "outputs": [
        {
          "output_type": "execute_result",
          "data": {
            "text/plain": [
              "    name\n",
              "0  Aamir\n",
              "1  Aaron\n",
              "2  Abbey\n",
              "3  Abbie\n",
              "4  Abbot"
            ],
            "text/html": [
              "\n",
              "  <div id=\"df-0a3ea72d-5cf7-44d3-a0c7-26a899242e64\">\n",
              "    <div class=\"colab-df-container\">\n",
              "      <div>\n",
              "<style scoped>\n",
              "    .dataframe tbody tr th:only-of-type {\n",
              "        vertical-align: middle;\n",
              "    }\n",
              "\n",
              "    .dataframe tbody tr th {\n",
              "        vertical-align: top;\n",
              "    }\n",
              "\n",
              "    .dataframe thead th {\n",
              "        text-align: right;\n",
              "    }\n",
              "</style>\n",
              "<table border=\"1\" class=\"dataframe\">\n",
              "  <thead>\n",
              "    <tr style=\"text-align: right;\">\n",
              "      <th></th>\n",
              "      <th>name</th>\n",
              "    </tr>\n",
              "  </thead>\n",
              "  <tbody>\n",
              "    <tr>\n",
              "      <th>0</th>\n",
              "      <td>Aamir</td>\n",
              "    </tr>\n",
              "    <tr>\n",
              "      <th>1</th>\n",
              "      <td>Aaron</td>\n",
              "    </tr>\n",
              "    <tr>\n",
              "      <th>2</th>\n",
              "      <td>Abbey</td>\n",
              "    </tr>\n",
              "    <tr>\n",
              "      <th>3</th>\n",
              "      <td>Abbie</td>\n",
              "    </tr>\n",
              "    <tr>\n",
              "      <th>4</th>\n",
              "      <td>Abbot</td>\n",
              "    </tr>\n",
              "  </tbody>\n",
              "</table>\n",
              "</div>\n",
              "      <button class=\"colab-df-convert\" onclick=\"convertToInteractive('df-0a3ea72d-5cf7-44d3-a0c7-26a899242e64')\"\n",
              "              title=\"Convert this dataframe to an interactive table.\"\n",
              "              style=\"display:none;\">\n",
              "        \n",
              "  <svg xmlns=\"http://www.w3.org/2000/svg\" height=\"24px\"viewBox=\"0 0 24 24\"\n",
              "       width=\"24px\">\n",
              "    <path d=\"M0 0h24v24H0V0z\" fill=\"none\"/>\n",
              "    <path d=\"M18.56 5.44l.94 2.06.94-2.06 2.06-.94-2.06-.94-.94-2.06-.94 2.06-2.06.94zm-11 1L8.5 8.5l.94-2.06 2.06-.94-2.06-.94L8.5 2.5l-.94 2.06-2.06.94zm10 10l.94 2.06.94-2.06 2.06-.94-2.06-.94-.94-2.06-.94 2.06-2.06.94z\"/><path d=\"M17.41 7.96l-1.37-1.37c-.4-.4-.92-.59-1.43-.59-.52 0-1.04.2-1.43.59L10.3 9.45l-7.72 7.72c-.78.78-.78 2.05 0 2.83L4 21.41c.39.39.9.59 1.41.59.51 0 1.02-.2 1.41-.59l7.78-7.78 2.81-2.81c.8-.78.8-2.07 0-2.86zM5.41 20L4 18.59l7.72-7.72 1.47 1.35L5.41 20z\"/>\n",
              "  </svg>\n",
              "      </button>\n",
              "      \n",
              "  <style>\n",
              "    .colab-df-container {\n",
              "      display:flex;\n",
              "      flex-wrap:wrap;\n",
              "      gap: 12px;\n",
              "    }\n",
              "\n",
              "    .colab-df-convert {\n",
              "      background-color: #E8F0FE;\n",
              "      border: none;\n",
              "      border-radius: 50%;\n",
              "      cursor: pointer;\n",
              "      display: none;\n",
              "      fill: #1967D2;\n",
              "      height: 32px;\n",
              "      padding: 0 0 0 0;\n",
              "      width: 32px;\n",
              "    }\n",
              "\n",
              "    .colab-df-convert:hover {\n",
              "      background-color: #E2EBFA;\n",
              "      box-shadow: 0px 1px 2px rgba(60, 64, 67, 0.3), 0px 1px 3px 1px rgba(60, 64, 67, 0.15);\n",
              "      fill: #174EA6;\n",
              "    }\n",
              "\n",
              "    [theme=dark] .colab-df-convert {\n",
              "      background-color: #3B4455;\n",
              "      fill: #D2E3FC;\n",
              "    }\n",
              "\n",
              "    [theme=dark] .colab-df-convert:hover {\n",
              "      background-color: #434B5C;\n",
              "      box-shadow: 0px 1px 3px 1px rgba(0, 0, 0, 0.15);\n",
              "      filter: drop-shadow(0px 1px 2px rgba(0, 0, 0, 0.3));\n",
              "      fill: #FFFFFF;\n",
              "    }\n",
              "  </style>\n",
              "\n",
              "      <script>\n",
              "        const buttonEl =\n",
              "          document.querySelector('#df-0a3ea72d-5cf7-44d3-a0c7-26a899242e64 button.colab-df-convert');\n",
              "        buttonEl.style.display =\n",
              "          google.colab.kernel.accessAllowed ? 'block' : 'none';\n",
              "\n",
              "        async function convertToInteractive(key) {\n",
              "          const element = document.querySelector('#df-0a3ea72d-5cf7-44d3-a0c7-26a899242e64');\n",
              "          const dataTable =\n",
              "            await google.colab.kernel.invokeFunction('convertToInteractive',\n",
              "                                                     [key], {});\n",
              "          if (!dataTable) return;\n",
              "\n",
              "          const docLinkHtml = 'Like what you see? Visit the ' +\n",
              "            '<a target=\"_blank\" href=https://colab.research.google.com/notebooks/data_table.ipynb>data table notebook</a>'\n",
              "            + ' to learn more about interactive tables.';\n",
              "          element.innerHTML = '';\n",
              "          dataTable['output_type'] = 'display_data';\n",
              "          await google.colab.output.renderOutput(dataTable, element);\n",
              "          const docLink = document.createElement('div');\n",
              "          docLink.innerHTML = docLinkHtml;\n",
              "          element.appendChild(docLink);\n",
              "        }\n",
              "      </script>\n",
              "    </div>\n",
              "  </div>\n",
              "  "
            ]
          },
          "metadata": {},
          "execution_count": 13
        }
      ]
    },
    {
      "cell_type": "code",
      "source": [
        "d1.shape"
      ],
      "metadata": {
        "colab": {
          "base_uri": "https://localhost:8080/"
        },
        "id": "QoA9kfOQw71L",
        "outputId": "b8042292-30be-454a-aa67-bdd526b9c478"
      },
      "execution_count": 14,
      "outputs": [
        {
          "output_type": "execute_result",
          "data": {
            "text/plain": [
              "(5001, 1)"
            ]
          },
          "metadata": {},
          "execution_count": 14
        }
      ]
    },
    {
      "cell_type": "code",
      "source": [
        "d2.shape"
      ],
      "metadata": {
        "colab": {
          "base_uri": "https://localhost:8080/"
        },
        "id": "7m_6uNN1w92W",
        "outputId": "0a357eb9-ab5a-414b-8d3b-89e97d994f40"
      },
      "execution_count": 15,
      "outputs": [
        {
          "output_type": "execute_result",
          "data": {
            "text/plain": [
              "(2943, 1)"
            ]
          },
          "metadata": {},
          "execution_count": 15
        }
      ]
    },
    {
      "cell_type": "code",
      "source": [
        "#Here we will need second column 'sex' to classify our names whether they are male or female.\n",
        "#Let's assign 0 to female and 1 to male. We can do create this with np.zeros and np.ones method\n",
        "n1 = np.zeros(shape=(5001, 1)).astype(int)\n",
        "n2 = np.ones(shape=(2943, 1)).astype(int)"
      ],
      "metadata": {
        "id": "ydxDWLoUwfw1"
      },
      "execution_count": 16,
      "outputs": []
    },
    {
      "cell_type": "code",
      "source": [
        "#As our n1 and n2 are numpy arrays we must convert them into pandas DataFrame\n",
        "n1_converted = pd.DataFrame(n1, columns = ['sex'])\n",
        "n2_converted = pd.DataFrame(n2, columns=['sex'])"
      ],
      "metadata": {
        "id": "AFqgXmFcxP4D"
      },
      "execution_count": 23,
      "outputs": []
    },
    {
      "cell_type": "code",
      "source": [
        "data1 = np.vstack((d1, d2))"
      ],
      "metadata": {
        "id": "8_2Q8VmSxRiz"
      },
      "execution_count": 47,
      "outputs": []
    },
    {
      "cell_type": "code",
      "source": [
        "data2 = np.vstack((n1_converted, n2_converted))"
      ],
      "metadata": {
        "id": "ASFR34fex7m2"
      },
      "execution_count": 49,
      "outputs": []
    },
    {
      "cell_type": "code",
      "source": [
        ""
      ],
      "metadata": {
        "id": "xSlYGhM1yKRu"
      },
      "execution_count": 51,
      "outputs": []
    },
    {
      "cell_type": "code",
      "source": [
        "x = np.hstack((data1, data2))"
      ],
      "metadata": {
        "id": "psaL-QPFy1Q3"
      },
      "execution_count": 52,
      "outputs": []
    },
    {
      "cell_type": "code",
      "source": [
        "x1 = pd.DataFrame(x, columns = ['name', 'sex'])"
      ],
      "metadata": {
        "id": "XPw6qk-Fy2FN"
      },
      "execution_count": 53,
      "outputs": []
    },
    {
      "cell_type": "code",
      "source": [
        "df = x1.sample(frac=1)"
      ],
      "metadata": {
        "id": "LUuNe19TzIqs"
      },
      "execution_count": 64,
      "outputs": []
    },
    {
      "cell_type": "code",
      "source": [
        "df"
      ],
      "metadata": {
        "colab": {
          "base_uri": "https://localhost:8080/",
          "height": 423
        },
        "id": "cO5ynIrDzJ5Z",
        "outputId": "41b1b1bd-7510-4bac-a02d-c155e9e12fd4"
      },
      "execution_count": 65,
      "outputs": [
        {
          "output_type": "execute_result",
          "data": {
            "text/plain": [
              "            name sex\n",
              "3376       Marni   0\n",
              "4112      Rhodia   0\n",
              "1069  Constantia   0\n",
              "3737       Nerti   0\n",
              "6189      Hirsch   1\n",
              "...          ...  ..\n",
              "3831      Odetta   0\n",
              "5558      Damian   1\n",
              "6784    Muhammad   1\n",
              "4114       Rhody   0\n",
              "2157    Hermione   0\n",
              "\n",
              "[7944 rows x 2 columns]"
            ],
            "text/html": [
              "\n",
              "  <div id=\"df-2f6e25ba-403b-4bc7-a857-12ad3d82e303\">\n",
              "    <div class=\"colab-df-container\">\n",
              "      <div>\n",
              "<style scoped>\n",
              "    .dataframe tbody tr th:only-of-type {\n",
              "        vertical-align: middle;\n",
              "    }\n",
              "\n",
              "    .dataframe tbody tr th {\n",
              "        vertical-align: top;\n",
              "    }\n",
              "\n",
              "    .dataframe thead th {\n",
              "        text-align: right;\n",
              "    }\n",
              "</style>\n",
              "<table border=\"1\" class=\"dataframe\">\n",
              "  <thead>\n",
              "    <tr style=\"text-align: right;\">\n",
              "      <th></th>\n",
              "      <th>name</th>\n",
              "      <th>sex</th>\n",
              "    </tr>\n",
              "  </thead>\n",
              "  <tbody>\n",
              "    <tr>\n",
              "      <th>3376</th>\n",
              "      <td>Marni</td>\n",
              "      <td>0</td>\n",
              "    </tr>\n",
              "    <tr>\n",
              "      <th>4112</th>\n",
              "      <td>Rhodia</td>\n",
              "      <td>0</td>\n",
              "    </tr>\n",
              "    <tr>\n",
              "      <th>1069</th>\n",
              "      <td>Constantia</td>\n",
              "      <td>0</td>\n",
              "    </tr>\n",
              "    <tr>\n",
              "      <th>3737</th>\n",
              "      <td>Nerti</td>\n",
              "      <td>0</td>\n",
              "    </tr>\n",
              "    <tr>\n",
              "      <th>6189</th>\n",
              "      <td>Hirsch</td>\n",
              "      <td>1</td>\n",
              "    </tr>\n",
              "    <tr>\n",
              "      <th>...</th>\n",
              "      <td>...</td>\n",
              "      <td>...</td>\n",
              "    </tr>\n",
              "    <tr>\n",
              "      <th>3831</th>\n",
              "      <td>Odetta</td>\n",
              "      <td>0</td>\n",
              "    </tr>\n",
              "    <tr>\n",
              "      <th>5558</th>\n",
              "      <td>Damian</td>\n",
              "      <td>1</td>\n",
              "    </tr>\n",
              "    <tr>\n",
              "      <th>6784</th>\n",
              "      <td>Muhammad</td>\n",
              "      <td>1</td>\n",
              "    </tr>\n",
              "    <tr>\n",
              "      <th>4114</th>\n",
              "      <td>Rhody</td>\n",
              "      <td>0</td>\n",
              "    </tr>\n",
              "    <tr>\n",
              "      <th>2157</th>\n",
              "      <td>Hermione</td>\n",
              "      <td>0</td>\n",
              "    </tr>\n",
              "  </tbody>\n",
              "</table>\n",
              "<p>7944 rows × 2 columns</p>\n",
              "</div>\n",
              "      <button class=\"colab-df-convert\" onclick=\"convertToInteractive('df-2f6e25ba-403b-4bc7-a857-12ad3d82e303')\"\n",
              "              title=\"Convert this dataframe to an interactive table.\"\n",
              "              style=\"display:none;\">\n",
              "        \n",
              "  <svg xmlns=\"http://www.w3.org/2000/svg\" height=\"24px\"viewBox=\"0 0 24 24\"\n",
              "       width=\"24px\">\n",
              "    <path d=\"M0 0h24v24H0V0z\" fill=\"none\"/>\n",
              "    <path d=\"M18.56 5.44l.94 2.06.94-2.06 2.06-.94-2.06-.94-.94-2.06-.94 2.06-2.06.94zm-11 1L8.5 8.5l.94-2.06 2.06-.94-2.06-.94L8.5 2.5l-.94 2.06-2.06.94zm10 10l.94 2.06.94-2.06 2.06-.94-2.06-.94-.94-2.06-.94 2.06-2.06.94z\"/><path d=\"M17.41 7.96l-1.37-1.37c-.4-.4-.92-.59-1.43-.59-.52 0-1.04.2-1.43.59L10.3 9.45l-7.72 7.72c-.78.78-.78 2.05 0 2.83L4 21.41c.39.39.9.59 1.41.59.51 0 1.02-.2 1.41-.59l7.78-7.78 2.81-2.81c.8-.78.8-2.07 0-2.86zM5.41 20L4 18.59l7.72-7.72 1.47 1.35L5.41 20z\"/>\n",
              "  </svg>\n",
              "      </button>\n",
              "      \n",
              "  <style>\n",
              "    .colab-df-container {\n",
              "      display:flex;\n",
              "      flex-wrap:wrap;\n",
              "      gap: 12px;\n",
              "    }\n",
              "\n",
              "    .colab-df-convert {\n",
              "      background-color: #E8F0FE;\n",
              "      border: none;\n",
              "      border-radius: 50%;\n",
              "      cursor: pointer;\n",
              "      display: none;\n",
              "      fill: #1967D2;\n",
              "      height: 32px;\n",
              "      padding: 0 0 0 0;\n",
              "      width: 32px;\n",
              "    }\n",
              "\n",
              "    .colab-df-convert:hover {\n",
              "      background-color: #E2EBFA;\n",
              "      box-shadow: 0px 1px 2px rgba(60, 64, 67, 0.3), 0px 1px 3px 1px rgba(60, 64, 67, 0.15);\n",
              "      fill: #174EA6;\n",
              "    }\n",
              "\n",
              "    [theme=dark] .colab-df-convert {\n",
              "      background-color: #3B4455;\n",
              "      fill: #D2E3FC;\n",
              "    }\n",
              "\n",
              "    [theme=dark] .colab-df-convert:hover {\n",
              "      background-color: #434B5C;\n",
              "      box-shadow: 0px 1px 3px 1px rgba(0, 0, 0, 0.15);\n",
              "      filter: drop-shadow(0px 1px 2px rgba(0, 0, 0, 0.3));\n",
              "      fill: #FFFFFF;\n",
              "    }\n",
              "  </style>\n",
              "\n",
              "      <script>\n",
              "        const buttonEl =\n",
              "          document.querySelector('#df-2f6e25ba-403b-4bc7-a857-12ad3d82e303 button.colab-df-convert');\n",
              "        buttonEl.style.display =\n",
              "          google.colab.kernel.accessAllowed ? 'block' : 'none';\n",
              "\n",
              "        async function convertToInteractive(key) {\n",
              "          const element = document.querySelector('#df-2f6e25ba-403b-4bc7-a857-12ad3d82e303');\n",
              "          const dataTable =\n",
              "            await google.colab.kernel.invokeFunction('convertToInteractive',\n",
              "                                                     [key], {});\n",
              "          if (!dataTable) return;\n",
              "\n",
              "          const docLinkHtml = 'Like what you see? Visit the ' +\n",
              "            '<a target=\"_blank\" href=https://colab.research.google.com/notebooks/data_table.ipynb>data table notebook</a>'\n",
              "            + ' to learn more about interactive tables.';\n",
              "          element.innerHTML = '';\n",
              "          dataTable['output_type'] = 'display_data';\n",
              "          await google.colab.output.renderOutput(dataTable, element);\n",
              "          const docLink = document.createElement('div');\n",
              "          docLink.innerHTML = docLinkHtml;\n",
              "          element.appendChild(docLink);\n",
              "        }\n",
              "      </script>\n",
              "    </div>\n",
              "  </div>\n",
              "  "
            ]
          },
          "metadata": {},
          "execution_count": 65
        }
      ]
    },
    {
      "cell_type": "code",
      "source": [
        "#Importing ML algorithms\n",
        "from sklearn.feature_extraction.text import CountVectorizer\n",
        "from sklearn.feature_extraction import DictVectorizer"
      ],
      "metadata": {
        "id": "bWrV15KF0FHZ"
      },
      "execution_count": 67,
      "outputs": []
    },
    {
      "cell_type": "code",
      "source": [
        "df.head()"
      ],
      "metadata": {
        "colab": {
          "base_uri": "https://localhost:8080/",
          "height": 206
        },
        "id": "IgIZq3KS3IXo",
        "outputId": "53701f18-8685-448d-dfce-bd4957ed0598"
      },
      "execution_count": 68,
      "outputs": [
        {
          "output_type": "execute_result",
          "data": {
            "text/plain": [
              "            name sex\n",
              "3376       Marni   0\n",
              "4112      Rhodia   0\n",
              "1069  Constantia   0\n",
              "3737       Nerti   0\n",
              "6189      Hirsch   1"
            ],
            "text/html": [
              "\n",
              "  <div id=\"df-fa857ca2-75bc-47fc-a49a-9ebb59fb876d\">\n",
              "    <div class=\"colab-df-container\">\n",
              "      <div>\n",
              "<style scoped>\n",
              "    .dataframe tbody tr th:only-of-type {\n",
              "        vertical-align: middle;\n",
              "    }\n",
              "\n",
              "    .dataframe tbody tr th {\n",
              "        vertical-align: top;\n",
              "    }\n",
              "\n",
              "    .dataframe thead th {\n",
              "        text-align: right;\n",
              "    }\n",
              "</style>\n",
              "<table border=\"1\" class=\"dataframe\">\n",
              "  <thead>\n",
              "    <tr style=\"text-align: right;\">\n",
              "      <th></th>\n",
              "      <th>name</th>\n",
              "      <th>sex</th>\n",
              "    </tr>\n",
              "  </thead>\n",
              "  <tbody>\n",
              "    <tr>\n",
              "      <th>3376</th>\n",
              "      <td>Marni</td>\n",
              "      <td>0</td>\n",
              "    </tr>\n",
              "    <tr>\n",
              "      <th>4112</th>\n",
              "      <td>Rhodia</td>\n",
              "      <td>0</td>\n",
              "    </tr>\n",
              "    <tr>\n",
              "      <th>1069</th>\n",
              "      <td>Constantia</td>\n",
              "      <td>0</td>\n",
              "    </tr>\n",
              "    <tr>\n",
              "      <th>3737</th>\n",
              "      <td>Nerti</td>\n",
              "      <td>0</td>\n",
              "    </tr>\n",
              "    <tr>\n",
              "      <th>6189</th>\n",
              "      <td>Hirsch</td>\n",
              "      <td>1</td>\n",
              "    </tr>\n",
              "  </tbody>\n",
              "</table>\n",
              "</div>\n",
              "      <button class=\"colab-df-convert\" onclick=\"convertToInteractive('df-fa857ca2-75bc-47fc-a49a-9ebb59fb876d')\"\n",
              "              title=\"Convert this dataframe to an interactive table.\"\n",
              "              style=\"display:none;\">\n",
              "        \n",
              "  <svg xmlns=\"http://www.w3.org/2000/svg\" height=\"24px\"viewBox=\"0 0 24 24\"\n",
              "       width=\"24px\">\n",
              "    <path d=\"M0 0h24v24H0V0z\" fill=\"none\"/>\n",
              "    <path d=\"M18.56 5.44l.94 2.06.94-2.06 2.06-.94-2.06-.94-.94-2.06-.94 2.06-2.06.94zm-11 1L8.5 8.5l.94-2.06 2.06-.94-2.06-.94L8.5 2.5l-.94 2.06-2.06.94zm10 10l.94 2.06.94-2.06 2.06-.94-2.06-.94-.94-2.06-.94 2.06-2.06.94z\"/><path d=\"M17.41 7.96l-1.37-1.37c-.4-.4-.92-.59-1.43-.59-.52 0-1.04.2-1.43.59L10.3 9.45l-7.72 7.72c-.78.78-.78 2.05 0 2.83L4 21.41c.39.39.9.59 1.41.59.51 0 1.02-.2 1.41-.59l7.78-7.78 2.81-2.81c.8-.78.8-2.07 0-2.86zM5.41 20L4 18.59l7.72-7.72 1.47 1.35L5.41 20z\"/>\n",
              "  </svg>\n",
              "      </button>\n",
              "      \n",
              "  <style>\n",
              "    .colab-df-container {\n",
              "      display:flex;\n",
              "      flex-wrap:wrap;\n",
              "      gap: 12px;\n",
              "    }\n",
              "\n",
              "    .colab-df-convert {\n",
              "      background-color: #E8F0FE;\n",
              "      border: none;\n",
              "      border-radius: 50%;\n",
              "      cursor: pointer;\n",
              "      display: none;\n",
              "      fill: #1967D2;\n",
              "      height: 32px;\n",
              "      padding: 0 0 0 0;\n",
              "      width: 32px;\n",
              "    }\n",
              "\n",
              "    .colab-df-convert:hover {\n",
              "      background-color: #E2EBFA;\n",
              "      box-shadow: 0px 1px 2px rgba(60, 64, 67, 0.3), 0px 1px 3px 1px rgba(60, 64, 67, 0.15);\n",
              "      fill: #174EA6;\n",
              "    }\n",
              "\n",
              "    [theme=dark] .colab-df-convert {\n",
              "      background-color: #3B4455;\n",
              "      fill: #D2E3FC;\n",
              "    }\n",
              "\n",
              "    [theme=dark] .colab-df-convert:hover {\n",
              "      background-color: #434B5C;\n",
              "      box-shadow: 0px 1px 3px 1px rgba(0, 0, 0, 0.15);\n",
              "      filter: drop-shadow(0px 1px 2px rgba(0, 0, 0, 0.3));\n",
              "      fill: #FFFFFF;\n",
              "    }\n",
              "  </style>\n",
              "\n",
              "      <script>\n",
              "        const buttonEl =\n",
              "          document.querySelector('#df-fa857ca2-75bc-47fc-a49a-9ebb59fb876d button.colab-df-convert');\n",
              "        buttonEl.style.display =\n",
              "          google.colab.kernel.accessAllowed ? 'block' : 'none';\n",
              "\n",
              "        async function convertToInteractive(key) {\n",
              "          const element = document.querySelector('#df-fa857ca2-75bc-47fc-a49a-9ebb59fb876d');\n",
              "          const dataTable =\n",
              "            await google.colab.kernel.invokeFunction('convertToInteractive',\n",
              "                                                     [key], {});\n",
              "          if (!dataTable) return;\n",
              "\n",
              "          const docLinkHtml = 'Like what you see? Visit the ' +\n",
              "            '<a target=\"_blank\" href=https://colab.research.google.com/notebooks/data_table.ipynb>data table notebook</a>'\n",
              "            + ' to learn more about interactive tables.';\n",
              "          element.innerHTML = '';\n",
              "          dataTable['output_type'] = 'display_data';\n",
              "          await google.colab.output.renderOutput(dataTable, element);\n",
              "          const docLink = document.createElement('div');\n",
              "          docLink.innerHTML = docLinkHtml;\n",
              "          element.appendChild(docLink);\n",
              "        }\n",
              "      </script>\n",
              "    </div>\n",
              "  </div>\n",
              "  "
            ]
          },
          "metadata": {},
          "execution_count": 68
        }
      ]
    },
    {
      "cell_type": "code",
      "source": [
        "df['sex'] = pd.to_numeric(df['sex'])"
      ],
      "metadata": {
        "id": "HlWIOQ3GAhNr"
      },
      "execution_count": 140,
      "outputs": []
    },
    {
      "cell_type": "code",
      "source": [
        "df.size"
      ],
      "metadata": {
        "colab": {
          "base_uri": "https://localhost:8080/"
        },
        "id": "lcjTGjF90Li_",
        "outputId": "e97d8e94-df66-4cc1-f095-dac5c7cbfd15"
      },
      "execution_count": 141,
      "outputs": [
        {
          "output_type": "execute_result",
          "data": {
            "text/plain": [
              "15888"
            ]
          },
          "metadata": {},
          "execution_count": 141
        }
      ]
    },
    {
      "cell_type": "code",
      "source": [
        "df.shape"
      ],
      "metadata": {
        "colab": {
          "base_uri": "https://localhost:8080/"
        },
        "id": "8_4grbq602uU",
        "outputId": "f33d6f97-8118-4a7e-a6f5-4f7e110c151d"
      },
      "execution_count": 142,
      "outputs": [
        {
          "output_type": "execute_result",
          "data": {
            "text/plain": [
              "(7944, 2)"
            ]
          },
          "metadata": {},
          "execution_count": 142
        }
      ]
    },
    {
      "cell_type": "code",
      "source": [
        "df.columns"
      ],
      "metadata": {
        "colab": {
          "base_uri": "https://localhost:8080/"
        },
        "id": "J5f0FQvC034k",
        "outputId": "b7fdcab5-d515-45cd-e6c5-d51b5553f5f5"
      },
      "execution_count": 143,
      "outputs": [
        {
          "output_type": "execute_result",
          "data": {
            "text/plain": [
              "Index(['name', 'sex'], dtype='object')"
            ]
          },
          "metadata": {},
          "execution_count": 143
        }
      ]
    },
    {
      "cell_type": "code",
      "source": [
        "df.dtypes"
      ],
      "metadata": {
        "colab": {
          "base_uri": "https://localhost:8080/"
        },
        "id": "yaG25Dyp7gGH",
        "outputId": "04dbbcc5-d160-46d3-fe28-361f062cc8ba"
      },
      "execution_count": 144,
      "outputs": [
        {
          "output_type": "execute_result",
          "data": {
            "text/plain": [
              "name    object\n",
              "sex      int64\n",
              "dtype: object"
            ]
          },
          "metadata": {},
          "execution_count": 144
        }
      ]
    },
    {
      "cell_type": "code",
      "source": [
        "#Checking for null values\n",
        "df.isnull().sum()"
      ],
      "metadata": {
        "colab": {
          "base_uri": "https://localhost:8080/"
        },
        "id": "WhH7PnqP7jKd",
        "outputId": "b7c6dd81-834b-408b-a988-dc6a171dccd4"
      },
      "execution_count": 145,
      "outputs": [
        {
          "output_type": "execute_result",
          "data": {
            "text/plain": [
              "name    0\n",
              "sex     0\n",
              "dtype: int64"
            ]
          },
          "metadata": {},
          "execution_count": 145
        }
      ]
    },
    {
      "cell_type": "code",
      "source": [
        "X_features = df['name']"
      ],
      "metadata": {
        "id": "u08YUJqM77ep"
      },
      "execution_count": 146,
      "outputs": []
    },
    {
      "cell_type": "code",
      "source": [
        "cv = CountVectorizer()\n",
        "X = cv.fit_transform(X_features)"
      ],
      "metadata": {
        "id": "y7crOizu8AbL"
      },
      "execution_count": 147,
      "outputs": []
    },
    {
      "cell_type": "code",
      "source": [
        "cv.get_feature_names()"
      ],
      "metadata": {
        "colab": {
          "base_uri": "https://localhost:8080/"
        },
        "id": "Usbeml8H8M7h",
        "outputId": "6fff0eed-cec3-43a0-c2c8-f2905bd89a6f"
      },
      "execution_count": 148,
      "outputs": [
        {
          "output_type": "stream",
          "name": "stderr",
          "text": [
            "/usr/local/lib/python3.7/dist-packages/sklearn/utils/deprecation.py:87: FutureWarning: Function get_feature_names is deprecated; get_feature_names is deprecated in 1.0 and will be removed in 1.2. Please use get_feature_names_out instead.\n",
            "  warnings.warn(msg, category=FutureWarning)\n"
          ]
        },
        {
          "output_type": "execute_result",
          "data": {
            "text/plain": [
              "['aamir',\n",
              " 'aaron',\n",
              " 'abagael',\n",
              " 'abagail',\n",
              " 'abbe',\n",
              " 'abbey',\n",
              " 'abbi',\n",
              " 'abbie',\n",
              " 'abbot',\n",
              " 'abbott',\n",
              " 'abby',\n",
              " 'abdel',\n",
              " 'abdul',\n",
              " 'abdulkarim',\n",
              " 'abdullah',\n",
              " 'abe',\n",
              " 'abel',\n",
              " 'abelard',\n",
              " 'abigael',\n",
              " 'abigail',\n",
              " 'abigale',\n",
              " 'abner',\n",
              " 'abra',\n",
              " 'abraham',\n",
              " 'abram',\n",
              " 'acacia',\n",
              " 'ace',\n",
              " 'ada',\n",
              " 'adah',\n",
              " 'adair',\n",
              " 'adaline',\n",
              " 'adam',\n",
              " 'adams',\n",
              " 'adara',\n",
              " 'addie',\n",
              " 'addis',\n",
              " 'adel',\n",
              " 'adela',\n",
              " 'adelaide',\n",
              " 'adele',\n",
              " 'adelice',\n",
              " 'adelina',\n",
              " 'adelind',\n",
              " 'adeline',\n",
              " 'adella',\n",
              " 'adelle',\n",
              " 'adena',\n",
              " 'adey',\n",
              " 'adger',\n",
              " 'adi',\n",
              " 'adiana',\n",
              " 'adina',\n",
              " 'aditya',\n",
              " 'adlai',\n",
              " 'adnan',\n",
              " 'adolf',\n",
              " 'adolfo',\n",
              " 'adolph',\n",
              " 'adolphe',\n",
              " 'adolpho',\n",
              " 'adolphus',\n",
              " 'adora',\n",
              " 'adore',\n",
              " 'adoree',\n",
              " 'adorne',\n",
              " 'adrea',\n",
              " 'adria',\n",
              " 'adriaens',\n",
              " 'adrian',\n",
              " 'adriana',\n",
              " 'adriane',\n",
              " 'adrianna',\n",
              " 'adrianne',\n",
              " 'adrick',\n",
              " 'adrien',\n",
              " 'adriena',\n",
              " 'adrienne',\n",
              " 'aeriel',\n",
              " 'aeriela',\n",
              " 'aeriell',\n",
              " 'ag',\n",
              " 'agace',\n",
              " 'agamemnon',\n",
              " 'agata',\n",
              " 'agatha',\n",
              " 'agathe',\n",
              " 'aggi',\n",
              " 'aggie',\n",
              " 'aggy',\n",
              " 'agna',\n",
              " 'agnella',\n",
              " 'agnes',\n",
              " 'agnese',\n",
              " 'agnesse',\n",
              " 'agneta',\n",
              " 'agnola',\n",
              " 'agretha',\n",
              " 'aguinaldo',\n",
              " 'aguste',\n",
              " 'agustin',\n",
              " 'aharon',\n",
              " 'ahmad',\n",
              " 'ahmed',\n",
              " 'ahmet',\n",
              " 'aida',\n",
              " 'aidan',\n",
              " 'aigneis',\n",
              " 'aila',\n",
              " 'aile',\n",
              " 'ailee',\n",
              " 'aileen',\n",
              " 'ailene',\n",
              " 'ailey',\n",
              " 'aili',\n",
              " 'ailina',\n",
              " 'ailyn',\n",
              " 'aime',\n",
              " 'aimee',\n",
              " 'aimil',\n",
              " 'aina',\n",
              " 'aindrea',\n",
              " 'ainslee',\n",
              " 'ainsley',\n",
              " 'ainslie',\n",
              " 'ajai',\n",
              " 'ajay',\n",
              " 'al',\n",
              " 'alaa',\n",
              " 'alain',\n",
              " 'alaine',\n",
              " 'alameda',\n",
              " 'alan',\n",
              " 'alana',\n",
              " 'alanah',\n",
              " 'alane',\n",
              " 'alanna',\n",
              " 'alasdair',\n",
              " 'alastair',\n",
              " 'alayne',\n",
              " 'albatros',\n",
              " 'albert',\n",
              " 'alberta',\n",
              " 'albertina',\n",
              " 'albertine',\n",
              " 'alberto',\n",
              " 'albina',\n",
              " 'albrecht',\n",
              " 'alden',\n",
              " 'aldis',\n",
              " 'aldo',\n",
              " 'aldric',\n",
              " 'aldrich',\n",
              " 'aldus',\n",
              " 'aldwin',\n",
              " 'alec',\n",
              " 'alecia',\n",
              " 'aleck',\n",
              " 'aleda',\n",
              " 'aleece',\n",
              " 'aleecia',\n",
              " 'aleen',\n",
              " 'alejandra',\n",
              " 'alejandrina',\n",
              " 'alejandro',\n",
              " 'aleks',\n",
              " 'aleksandrs',\n",
              " 'alena',\n",
              " 'alene',\n",
              " 'alessandra',\n",
              " 'alessandro',\n",
              " 'aleta',\n",
              " 'alethea',\n",
              " 'alex',\n",
              " 'alexa',\n",
              " 'alexander',\n",
              " 'alexandra',\n",
              " 'alexandrina',\n",
              " 'alexei',\n",
              " 'alexi',\n",
              " 'alexia',\n",
              " 'alexina',\n",
              " 'alexine',\n",
              " 'alexis',\n",
              " 'alf',\n",
              " 'alfie',\n",
              " 'alfonse',\n",
              " 'alfonso',\n",
              " 'alfonzo',\n",
              " 'alford',\n",
              " 'alfred',\n",
              " 'alfreda',\n",
              " 'alfredo',\n",
              " 'algernon',\n",
              " 'ali',\n",
              " 'alia',\n",
              " 'alic',\n",
              " 'alica',\n",
              " 'alice',\n",
              " 'alicea',\n",
              " 'alicia',\n",
              " 'alida',\n",
              " 'alidia',\n",
              " 'alina',\n",
              " 'aline',\n",
              " 'alis',\n",
              " 'alisa',\n",
              " 'alisha',\n",
              " 'alison',\n",
              " 'alissa',\n",
              " 'alister',\n",
              " 'alisun',\n",
              " 'alix',\n",
              " 'aliza',\n",
              " 'alla',\n",
              " 'allah',\n",
              " 'allan',\n",
              " 'alleen',\n",
              " 'allegra',\n",
              " 'allen',\n",
              " 'allene',\n",
              " 'alley',\n",
              " 'alli',\n",
              " 'allianora',\n",
              " 'allie',\n",
              " 'allin',\n",
              " 'allina',\n",
              " 'allis',\n",
              " 'allison',\n",
              " 'allissa',\n",
              " 'allsun',\n",
              " 'ally',\n",
              " 'allyce',\n",
              " 'allyn',\n",
              " 'allys',\n",
              " 'allyson',\n",
              " 'alma',\n",
              " 'almeda',\n",
              " 'almeria',\n",
              " 'almeta',\n",
              " 'almira',\n",
              " 'almire',\n",
              " 'aloise',\n",
              " 'aloisia',\n",
              " 'alonso',\n",
              " 'alonzo',\n",
              " 'aloysia',\n",
              " 'aloysius',\n",
              " 'alpa',\n",
              " 'alphonse',\n",
              " 'alphonso',\n",
              " 'alston',\n",
              " 'alta',\n",
              " 'althea',\n",
              " 'alton',\n",
              " 'alvera',\n",
              " 'alvin',\n",
              " 'alvina',\n",
              " 'alvinia',\n",
              " 'alvira',\n",
              " 'alwin',\n",
              " 'alyce',\n",
              " 'alyda',\n",
              " 'alys',\n",
              " 'alysa',\n",
              " 'alyse',\n",
              " 'alysia',\n",
              " 'alyson',\n",
              " 'alyss',\n",
              " 'alyssa',\n",
              " 'amabel',\n",
              " 'amabelle',\n",
              " 'amadeus',\n",
              " 'amalea',\n",
              " 'amalee',\n",
              " 'amaleta',\n",
              " 'amalia',\n",
              " 'amalie',\n",
              " 'amalita',\n",
              " 'amalle',\n",
              " 'amanda',\n",
              " 'amandi',\n",
              " 'amandie',\n",
              " 'amandy',\n",
              " 'amara',\n",
              " 'amargo',\n",
              " 'amata',\n",
              " 'amber',\n",
              " 'amberly',\n",
              " 'ambros',\n",
              " 'ambrose',\n",
              " 'ambrosi',\n",
              " 'ambrosia',\n",
              " 'ambrosio',\n",
              " 'ambrosius',\n",
              " 'ambur',\n",
              " 'ame',\n",
              " 'amelia',\n",
              " 'amelie',\n",
              " 'amelina',\n",
              " 'ameline',\n",
              " 'amelita',\n",
              " 'amery',\n",
              " 'ami',\n",
              " 'amie',\n",
              " 'amity',\n",
              " 'ammamaria',\n",
              " 'amory',\n",
              " 'amos',\n",
              " 'amy',\n",
              " 'ana',\n",
              " 'anabel',\n",
              " 'anabella',\n",
              " 'anabelle',\n",
              " 'anais',\n",
              " 'analiese',\n",
              " 'analise',\n",
              " 'anallese',\n",
              " 'anallise',\n",
              " 'anastasia',\n",
              " 'anastasie',\n",
              " 'anastassia',\n",
              " 'anatol',\n",
              " 'anatola',\n",
              " 'anatole',\n",
              " 'anatollo',\n",
              " 'anatoly',\n",
              " 'andee',\n",
              " 'anders',\n",
              " 'andi',\n",
              " 'andie',\n",
              " 'andonis',\n",
              " 'andra',\n",
              " 'andre',\n",
              " 'andrea',\n",
              " 'andreana',\n",
              " 'andreas',\n",
              " 'andree',\n",
              " 'andrei',\n",
              " 'andrej',\n",
              " 'andres',\n",
              " 'andrew',\n",
              " 'andrey',\n",
              " 'andri',\n",
              " 'andria',\n",
              " 'andriana',\n",
              " 'andriette',\n",
              " 'andromache',\n",
              " 'andromeda',\n",
              " 'andros',\n",
              " 'andrus',\n",
              " 'andrzej',\n",
              " 'andy',\n",
              " 'anestassia',\n",
              " 'anet',\n",
              " 'anett',\n",
              " 'anetta',\n",
              " 'anette',\n",
              " 'ange',\n",
              " 'angel',\n",
              " 'angela',\n",
              " 'angele',\n",
              " 'angelia',\n",
              " 'angelica',\n",
              " 'angelico',\n",
              " 'angelika',\n",
              " 'angelina',\n",
              " 'angeline',\n",
              " 'angelique',\n",
              " 'angelita',\n",
              " 'angelle',\n",
              " 'angelo',\n",
              " 'angie',\n",
              " 'angil',\n",
              " 'angus',\n",
              " 'angy',\n",
              " 'ania',\n",
              " 'anica',\n",
              " 'anissa',\n",
              " 'anita',\n",
              " 'anitra',\n",
              " 'anja',\n",
              " 'anjanette',\n",
              " 'anjela',\n",
              " 'ann',\n",
              " 'anna',\n",
              " 'annabal',\n",
              " 'annabel',\n",
              " 'annabela',\n",
              " 'annabell',\n",
              " 'annabella',\n",
              " 'annabelle',\n",
              " 'annadiana',\n",
              " 'annadiane',\n",
              " 'annalee',\n",
              " 'annalena',\n",
              " 'annaliese',\n",
              " 'annalisa',\n",
              " 'annalise',\n",
              " 'annalyse',\n",
              " 'annamari',\n",
              " 'annamaria',\n",
              " 'annamarie',\n",
              " 'anne',\n",
              " 'annecorinne',\n",
              " 'anneliese',\n",
              " 'annelise',\n",
              " 'annemarie',\n",
              " 'annetta',\n",
              " 'annette',\n",
              " 'anni',\n",
              " 'annice',\n",
              " 'annie',\n",
              " 'annissa',\n",
              " 'annmaria',\n",
              " 'annmarie',\n",
              " 'annnora',\n",
              " 'annora',\n",
              " 'anny',\n",
              " 'ansel',\n",
              " 'ansell',\n",
              " 'anselm',\n",
              " 'anselma',\n",
              " 'ansley',\n",
              " 'anson',\n",
              " 'anstice',\n",
              " 'anthe',\n",
              " 'anthea',\n",
              " 'anthia',\n",
              " 'anthony',\n",
              " 'antin',\n",
              " 'antoine',\n",
              " 'antoinette',\n",
              " 'anton',\n",
              " 'antone',\n",
              " 'antonella',\n",
              " 'antonetta',\n",
              " 'antoni',\n",
              " 'antonia',\n",
              " 'antonie',\n",
              " 'antonietta',\n",
              " 'antonin',\n",
              " 'antonina',\n",
              " 'antonino',\n",
              " 'antonio',\n",
              " 'antonius',\n",
              " 'antony',\n",
              " 'anurag',\n",
              " 'anya',\n",
              " 'aphrodite',\n",
              " 'apollo',\n",
              " 'apostolos',\n",
              " 'appolonia',\n",
              " 'april',\n",
              " 'aprilette',\n",
              " 'ara',\n",
              " 'arabel',\n",
              " 'arabela',\n",
              " 'arabele',\n",
              " 'arabella',\n",
              " 'arabelle',\n",
              " 'aram',\n",
              " 'archibald',\n",
              " 'archibold',\n",
              " 'archie',\n",
              " 'archon',\n",
              " 'archy',\n",
              " 'arda',\n",
              " 'ardath',\n",
              " 'ardeen',\n",
              " 'ardelia',\n",
              " 'ardelis',\n",
              " 'ardella',\n",
              " 'ardelle',\n",
              " 'arden',\n",
              " 'ardene',\n",
              " 'ardenia',\n",
              " 'ardine',\n",
              " 'ardis',\n",
              " 'ardith',\n",
              " 'ardra',\n",
              " 'ardyce',\n",
              " 'ardys',\n",
              " 'ardyth',\n",
              " 'arel',\n",
              " 'aretha',\n",
              " 'ari',\n",
              " 'ariadne',\n",
              " 'ariana',\n",
              " 'arianne',\n",
              " 'aridatha',\n",
              " 'arie',\n",
              " 'ariel',\n",
              " 'ariela',\n",
              " 'ariella',\n",
              " 'arielle',\n",
              " 'aristotle',\n",
              " 'arlana',\n",
              " 'arlee',\n",
              " 'arleen',\n",
              " 'arlen',\n",
              " 'arlena',\n",
              " 'arlene',\n",
              " 'arleta',\n",
              " 'arlette',\n",
              " 'arleyne',\n",
              " 'arlie',\n",
              " 'arliene',\n",
              " 'arlina',\n",
              " 'arlinda',\n",
              " 'arline',\n",
              " 'arlo',\n",
              " 'arly',\n",
              " 'arlyn',\n",
              " 'arlyne',\n",
              " 'armand',\n",
              " 'armando',\n",
              " 'armond',\n",
              " 'armstrong',\n",
              " 'arne',\n",
              " 'arnie',\n",
              " 'arnold',\n",
              " 'arnoldo',\n",
              " 'aron',\n",
              " 'arron',\n",
              " 'art',\n",
              " 'arther',\n",
              " 'arthur',\n",
              " 'artie',\n",
              " 'artur',\n",
              " 'arturo',\n",
              " 'arvie',\n",
              " 'arvin',\n",
              " 'arvind',\n",
              " 'arvy',\n",
              " 'aryn',\n",
              " 'ash',\n",
              " 'ashby',\n",
              " 'ashely',\n",
              " 'ashish',\n",
              " 'ashlee',\n",
              " 'ashleigh',\n",
              " 'ashlen',\n",
              " 'ashley',\n",
              " 'ashli',\n",
              " 'ashlie',\n",
              " 'ashly',\n",
              " 'ashton',\n",
              " 'asia',\n",
              " 'astra',\n",
              " 'astrid',\n",
              " 'astrix',\n",
              " 'atalanta',\n",
              " 'athena',\n",
              " 'athene',\n",
              " 'atlanta',\n",
              " 'atlante',\n",
              " 'aub',\n",
              " 'aube',\n",
              " 'aubert',\n",
              " 'auberta',\n",
              " 'aubine',\n",
              " 'aubree',\n",
              " 'aubrette',\n",
              " 'aubrey',\n",
              " 'aubrie',\n",
              " 'aubry',\n",
              " 'audi',\n",
              " 'audie',\n",
              " 'audra',\n",
              " 'audre',\n",
              " 'audrey',\n",
              " 'audrie',\n",
              " 'audry',\n",
              " 'audrye',\n",
              " 'audy',\n",
              " 'augie',\n",
              " 'august',\n",
              " 'augusta',\n",
              " 'auguste',\n",
              " 'augustin',\n",
              " 'augustina',\n",
              " 'augustine',\n",
              " 'augusto',\n",
              " 'augustus',\n",
              " 'aura',\n",
              " 'aurea',\n",
              " 'aurel',\n",
              " 'aurelea',\n",
              " 'aurelia',\n",
              " 'aurelie',\n",
              " 'auria',\n",
              " 'aurie',\n",
              " 'aurilia',\n",
              " 'aurlie',\n",
              " 'auroora',\n",
              " 'aurora',\n",
              " 'aurore',\n",
              " 'austen',\n",
              " 'austin',\n",
              " 'austina',\n",
              " 'austine',\n",
              " 'ava',\n",
              " 'ave',\n",
              " 'aveline',\n",
              " 'averell',\n",
              " 'averil',\n",
              " 'averill',\n",
              " 'avery',\n",
              " 'averyl',\n",
              " 'avi',\n",
              " 'avie',\n",
              " 'avis',\n",
              " 'aviva',\n",
              " 'avivah',\n",
              " 'avraham',\n",
              " 'avram',\n",
              " 'avril',\n",
              " 'avrit',\n",
              " 'avrom',\n",
              " 'axel',\n",
              " 'aylmer',\n",
              " 'ayn',\n",
              " 'aziz',\n",
              " 'bab',\n",
              " 'babara',\n",
              " 'babette',\n",
              " 'babita',\n",
              " 'babs',\n",
              " 'bailey',\n",
              " 'bailie',\n",
              " 'baillie',\n",
              " 'baily',\n",
              " 'baird',\n",
              " 'baldwin',\n",
              " 'bambi',\n",
              " 'bambie',\n",
              " 'bamby',\n",
              " 'bancroft',\n",
              " 'barb',\n",
              " 'barbabas',\n",
              " 'barbabra',\n",
              " 'barbara',\n",
              " 'barbaraanne',\n",
              " 'barbe',\n",
              " 'barbee',\n",
              " 'barbette',\n",
              " 'barbey',\n",
              " 'barbi',\n",
              " 'barbie',\n",
              " 'barbra',\n",
              " 'barby',\n",
              " 'barclay',\n",
              " 'bard',\n",
              " 'barde',\n",
              " 'bari',\n",
              " 'barn',\n",
              " 'barnabas',\n",
              " 'barnabe',\n",
              " 'barnaby',\n",
              " 'barnard',\n",
              " 'barnebas',\n",
              " 'barnett',\n",
              " 'barney',\n",
              " 'barnie',\n",
              " 'barny',\n",
              " 'baron',\n",
              " 'barr',\n",
              " 'barret',\n",
              " 'barrett',\n",
              " 'barri',\n",
              " 'barrie',\n",
              " 'barris',\n",
              " 'barron',\n",
              " 'barry',\n",
              " 'bart',\n",
              " 'bartel',\n",
              " 'barth',\n",
              " 'barthel',\n",
              " 'bartholemy',\n",
              " 'bartholomeo',\n",
              " 'bartholomeus',\n",
              " 'bartholomew',\n",
              " 'bartie',\n",
              " 'bartlet',\n",
              " 'bartlett',\n",
              " 'bartolemo',\n",
              " 'bartolomei',\n",
              " 'bartolomeo',\n",
              " 'barton',\n",
              " 'barty',\n",
              " 'bary',\n",
              " 'basia',\n",
              " 'basil',\n",
              " 'batholomew',\n",
              " 'bathsheba',\n",
              " 'batsheva',\n",
              " 'baxter',\n",
              " 'bay',\n",
              " 'bayard',\n",
              " 'bea',\n",
              " 'beale',\n",
              " 'bealle',\n",
              " 'bear',\n",
              " 'bearnard',\n",
              " 'beatrice',\n",
              " 'beatrisa',\n",
              " 'beatrix',\n",
              " 'beatriz',\n",
              " 'beau',\n",
              " 'beaufort',\n",
              " 'beauregard',\n",
              " 'bebe',\n",
              " 'becca',\n",
              " 'beck',\n",
              " 'becka',\n",
              " 'becki',\n",
              " 'beckie',\n",
              " 'becky',\n",
              " 'bee',\n",
              " 'beilul',\n",
              " 'beitris',\n",
              " 'bekki',\n",
              " 'bel',\n",
              " 'bela',\n",
              " 'belia',\n",
              " 'belicia',\n",
              " 'belinda',\n",
              " 'belita',\n",
              " 'bell',\n",
              " 'bella',\n",
              " 'bellamy',\n",
              " 'bellanca',\n",
              " 'belle',\n",
              " 'bellina',\n",
              " 'belva',\n",
              " 'belvia',\n",
              " 'ben',\n",
              " 'bendite',\n",
              " 'benedetta',\n",
              " 'benedict',\n",
              " 'benedicta',\n",
              " 'benedikta',\n",
              " 'benetta',\n",
              " 'bengt',\n",
              " 'benita',\n",
              " 'benito',\n",
              " 'benjamen',\n",
              " 'benjamin',\n",
              " 'benji',\n",
              " 'benjie',\n",
              " 'benjy',\n",
              " 'benn',\n",
              " 'bennet',\n",
              " 'bennett',\n",
              " 'benni',\n",
              " 'bennie',\n",
              " 'benny',\n",
              " 'benoite',\n",
              " 'benson',\n",
              " 'bentley',\n",
              " 'benton',\n",
              " 'beowulf',\n",
              " 'berchtold',\n",
              " 'berenice',\n",
              " 'beret',\n",
              " 'berget',\n",
              " 'berk',\n",
              " 'berke',\n",
              " 'berkeley',\n",
              " 'berkie',\n",
              " 'berkley',\n",
              " 'berna',\n",
              " 'bernadene',\n",
              " 'bernadette',\n",
              " 'bernadina',\n",
              " 'bernadine',\n",
              " 'bernard',\n",
              " 'bernardina',\n",
              " 'bernardine',\n",
              " 'bernardo',\n",
              " 'bernd',\n",
              " 'bernelle',\n",
              " 'bernete',\n",
              " 'bernetta',\n",
              " 'bernette',\n",
              " 'bernhard',\n",
              " 'berni',\n",
              " 'bernice',\n",
              " 'bernie',\n",
              " 'bernita',\n",
              " 'berny',\n",
              " 'berri',\n",
              " 'berrie',\n",
              " 'berry',\n",
              " 'bert',\n",
              " 'berta',\n",
              " 'berte',\n",
              " 'bertha',\n",
              " 'berthe',\n",
              " 'berti',\n",
              " 'bertie',\n",
              " 'bertina',\n",
              " 'bertine',\n",
              " 'bertram',\n",
              " 'bertrand',\n",
              " 'berty',\n",
              " 'beryl',\n",
              " 'beryle',\n",
              " 'bess',\n",
              " 'bessie',\n",
              " 'bessy',\n",
              " 'beth',\n",
              " 'bethanne',\n",
              " 'bethany',\n",
              " 'bethena',\n",
              " 'bethina',\n",
              " 'betsey',\n",
              " 'betsy',\n",
              " 'betta',\n",
              " 'bette',\n",
              " 'betteann',\n",
              " 'betteanne',\n",
              " 'betti',\n",
              " 'bettie',\n",
              " 'bettina',\n",
              " 'bettine',\n",
              " 'betty',\n",
              " 'bettye',\n",
              " 'beulah',\n",
              " 'bev',\n",
              " 'beverie',\n",
              " 'beverlee',\n",
              " 'beverlie',\n",
              " 'beverly',\n",
              " 'bevvy',\n",
              " 'bharat',\n",
              " 'bianca',\n",
              " 'bianka',\n",
              " 'biddy',\n",
              " 'bidget',\n",
              " 'biff',\n",
              " 'bill',\n",
              " 'billi',\n",
              " 'billie',\n",
              " 'billy',\n",
              " 'bing',\n",
              " 'binky',\n",
              " 'binni',\n",
              " 'binnie',\n",
              " 'binny',\n",
              " 'bird',\n",
              " 'birdie',\n",
              " 'birgit',\n",
              " 'birgitta',\n",
              " 'bishop',\n",
              " 'bjorn',\n",
              " 'bjorne',\n",
              " 'blaine',\n",
              " 'blair',\n",
              " 'blaire',\n",
              " 'blake',\n",
              " 'blakelee',\n",
              " 'blakeley',\n",
              " 'blanca',\n",
              " 'blanch',\n",
              " 'blancha',\n",
              " 'blanche',\n",
              " 'blare',\n",
              " 'blayne',\n",
              " 'blinni',\n",
              " 'blinnie',\n",
              " 'blinny',\n",
              " 'bliss',\n",
              " 'blisse',\n",
              " 'blithe',\n",
              " 'blondell',\n",
              " 'blondelle',\n",
              " 'blondie',\n",
              " 'blondy',\n",
              " 'blythe',\n",
              " 'bo',\n",
              " 'bob',\n",
              " 'bobbette',\n",
              " 'bobbi',\n",
              " 'bobbie',\n",
              " 'bobby',\n",
              " 'bobette',\n",
              " 'bobina',\n",
              " 'bobine',\n",
              " 'bobinette',\n",
              " 'bogart',\n",
              " 'bogdan',\n",
              " 'boniface',\n",
              " 'bonita',\n",
              " 'bonnee',\n",
              " 'bonni',\n",
              " 'bonnie',\n",
              " 'bonny',\n",
              " 'boris',\n",
              " 'boyce',\n",
              " 'boyd',\n",
              " 'brad',\n",
              " 'braden',\n",
              " 'bradford',\n",
              " 'bradley',\n",
              " 'bradly',\n",
              " 'brady',\n",
              " 'brana',\n",
              " 'brandais',\n",
              " 'brande',\n",
              " 'brandea',\n",
              " 'brandi',\n",
              " 'brandice',\n",
              " 'brandie',\n",
              " 'brandise',\n",
              " 'brandon',\n",
              " 'brandy',\n",
              " 'brant',\n",
              " 'brea',\n",
              " 'breanne',\n",
              " 'brear',\n",
              " 'bree',\n",
              " 'breena',\n",
              " 'bren',\n",
              " 'brena',\n",
              " 'brenda',\n",
              " 'brendan',\n",
              " 'brenn',\n",
              " 'brenna',\n",
              " 'brent',\n",
              " 'bret',\n",
              " 'brett',\n",
              " 'brewer',\n",
              " 'brewster',\n",
              " 'bria',\n",
              " 'brian',\n",
              " 'briana',\n",
              " 'brianna',\n",
              " 'brianne',\n",
              " 'brice',\n",
              " 'bride',\n",
              " 'bridget',\n",
              " 'bridgett',\n",
              " 'bridgette',\n",
              " 'bridie',\n",
              " 'brier',\n",
              " 'brietta',\n",
              " 'briggs',\n",
              " 'brigid',\n",
              " 'brigida',\n",
              " 'brigit',\n",
              " 'brigitta',\n",
              " 'brigitte',\n",
              " 'brina',\n",
              " 'briney',\n",
              " 'brinkley',\n",
              " 'briny',\n",
              " 'brit',\n",
              " 'brita',\n",
              " 'britaney',\n",
              " 'britani',\n",
              " 'briteny',\n",
              " 'britney',\n",
              " 'britni',\n",
              " 'britt',\n",
              " 'britta',\n",
              " 'brittan',\n",
              " 'brittany',\n",
              " 'britte',\n",
              " 'brittney',\n",
              " 'brock',\n",
              " 'broddie',\n",
              " 'broddy',\n",
              " 'broderic',\n",
              " 'broderick',\n",
              " 'brodie',\n",
              " 'brody',\n",
              " 'bronson',\n",
              " 'brook',\n",
              " 'brooke',\n",
              " 'brooks',\n",
              " 'bruce',\n",
              " 'brunella',\n",
              " 'brunhilda',\n",
              " 'brunhilde',\n",
              " 'bruno',\n",
              " 'bryan',\n",
              " 'bryana',\n",
              " 'bryant',\n",
              " 'bryce',\n",
              " 'bryn',\n",
              " 'bryna',\n",
              " 'brynn',\n",
              " 'brynna',\n",
              " 'brynne',\n",
              " 'bryon',\n",
              " 'bubba',\n",
              " 'buck',\n",
              " 'bucky',\n",
              " 'bud',\n",
              " ...]"
            ]
          },
          "metadata": {},
          "execution_count": 148
        }
      ]
    },
    {
      "cell_type": "code",
      "source": [
        "from sklearn.model_selection import train_test_split"
      ],
      "metadata": {
        "id": "rkXxtnyA9Yod"
      },
      "execution_count": 149,
      "outputs": []
    },
    {
      "cell_type": "code",
      "source": [
        "X  #features\n",
        "y = df['sex'] #Labels"
      ],
      "metadata": {
        "id": "p-GNz-6--SS_"
      },
      "execution_count": 150,
      "outputs": []
    },
    {
      "cell_type": "code",
      "source": [
        "X_train, X_test, y_train, y_test = train_test_split(X, y, test_size=0.3, random_state=1)"
      ],
      "metadata": {
        "id": "cjfdZD96-a_R"
      },
      "execution_count": 151,
      "outputs": []
    },
    {
      "cell_type": "code",
      "source": [
        "#Naive Bayes Classification\n",
        "from sklearn.naive_bayes import MultinomialNB\n",
        "classifier = MultinomialNB()\n",
        "classifier.fit(X_train, y_train)\n",
        "classifier.score(X_test, y_test)"
      ],
      "metadata": {
        "colab": {
          "base_uri": "https://localhost:8080/"
        },
        "id": "7df5H8Kh-plW",
        "outputId": "50f92582-534c-462b-aa03-ce1ba50c85d8"
      },
      "execution_count": 152,
      "outputs": [
        {
          "output_type": "execute_result",
          "data": {
            "text/plain": [
              "0.5939597315436241"
            ]
          },
          "metadata": {},
          "execution_count": 152
        }
      ]
    },
    {
      "cell_type": "code",
      "source": [
        "#The accuracy of NB model is about 59.4%. It's not a good result. Need to do some tuning and choose better model.\n",
        "print('The accuracy of model: %.3f ' %classifier.score(X_test, y_test))\n",
        "\n"
      ],
      "metadata": {
        "colab": {
          "base_uri": "https://localhost:8080/"
        },
        "id": "Zz_41lUB_r1G",
        "outputId": "700aa798-87e8-4b70-a49a-52e71d2e88d7"
      },
      "execution_count": 158,
      "outputs": [
        {
          "output_type": "stream",
          "name": "stdout",
          "text": [
            "The accuracy of model: 0.594 \n"
          ]
        }
      ]
    },
    {
      "cell_type": "code",
      "source": [
        "#Let's write a function to predict the gender\n",
        "def predictgender(x):\n",
        "  nametesting = [x]\n",
        "  vector = cv.transform(nametesting).toarray()\n",
        "  if classifier.predict(vector) == 0:\n",
        "    print('female')\n",
        "  else:\n",
        "    print('male')"
      ],
      "metadata": {
        "id": "AhypVDPvH90a"
      },
      "execution_count": 159,
      "outputs": []
    },
    {
      "cell_type": "code",
      "source": [
        "predictgender('Marni')"
      ],
      "metadata": {
        "colab": {
          "base_uri": "https://localhost:8080/"
        },
        "id": "fLs_Dm6_KHW4",
        "outputId": "75317f76-3866-4d7b-a0f0-0af523084476"
      },
      "execution_count": 160,
      "outputs": [
        {
          "output_type": "stream",
          "name": "stdout",
          "text": [
            "female\n"
          ]
        }
      ]
    },
    {
      "cell_type": "code",
      "source": [
        "predictgender('Rhodia')"
      ],
      "metadata": {
        "colab": {
          "base_uri": "https://localhost:8080/"
        },
        "id": "9LL7dvt5LD8a",
        "outputId": "7ea40654-d9d3-43e8-caf0-ef22360afba9"
      },
      "execution_count": 162,
      "outputs": [
        {
          "output_type": "stream",
          "name": "stdout",
          "text": [
            "female\n"
          ]
        }
      ]
    },
    {
      "cell_type": "code",
      "source": [
        "predictgender('Hirsch')"
      ],
      "metadata": {
        "colab": {
          "base_uri": "https://localhost:8080/"
        },
        "id": "fElK4qJXLGkJ",
        "outputId": "c96f31d7-4be0-4cfe-8683-0fd381426765"
      },
      "execution_count": 169,
      "outputs": [
        {
          "output_type": "stream",
          "name": "stdout",
          "text": [
            "female\n"
          ]
        }
      ]
    },
    {
      "cell_type": "code",
      "source": [
        "predictgender('Damian')"
      ],
      "metadata": {
        "colab": {
          "base_uri": "https://localhost:8080/"
        },
        "id": "XRnxUmb7LN83",
        "outputId": "acec6d67-2e6e-4d46-d3a5-a49244667533"
      },
      "execution_count": 170,
      "outputs": [
        {
          "output_type": "stream",
          "name": "stdout",
          "text": [
            "male\n"
          ]
        }
      ]
    },
    {
      "cell_type": "code",
      "source": [
        "predictgender('Odetta')"
      ],
      "metadata": {
        "colab": {
          "base_uri": "https://localhost:8080/"
        },
        "id": "FivRUSWpLTV_",
        "outputId": "84df5b2a-b669-411c-c75e-6dae6bd6892d"
      },
      "execution_count": 171,
      "outputs": [
        {
          "output_type": "stream",
          "name": "stdout",
          "text": [
            "female\n"
          ]
        }
      ]
    },
    {
      "cell_type": "code",
      "source": [
        "predictgender('Muhammad')"
      ],
      "metadata": {
        "colab": {
          "base_uri": "https://localhost:8080/"
        },
        "id": "OQ-jFLZ_LkHo",
        "outputId": "3d8e9207-5a4c-48cb-8cad-dd30d1fb1980"
      },
      "execution_count": 173,
      "outputs": [
        {
          "output_type": "stream",
          "name": "stdout",
          "text": [
            "male\n"
          ]
        }
      ]
    },
    {
      "cell_type": "code",
      "source": [
        "#Let's do some feature analysis. As we see from dataset most of the female names ends in A or E or they have A sound in their pronunciation\n",
        "def features(name):\n",
        "  name = name.lower()\n",
        "  return {\n",
        "      'first_letter': name[0],\n",
        "      'first2letters': name[0:2],\n",
        "      'first3letters': name[0:3],\n",
        "      'lastletter': name[-1],\n",
        "      'last2letters': name[-2:],\n",
        "      'last3letters': name[-3:]\n",
        "  }"
      ],
      "metadata": {
        "id": "9LRZ2GK2Ltob"
      },
      "execution_count": 174,
      "outputs": []
    },
    {
      "cell_type": "code",
      "source": [
        "#Vectorize features\n",
        "features = np.vectorize(features)"
      ],
      "metadata": {
        "id": "ced35P24OvTV"
      },
      "execution_count": 175,
      "outputs": []
    },
    {
      "cell_type": "code",
      "source": [
        "#Determine features and labels\n",
        "df_X = features(df['name'])\n",
        "df_y = df['sex']"
      ],
      "metadata": {
        "id": "xkdzzz9bPSXy"
      },
      "execution_count": 176,
      "outputs": []
    },
    {
      "cell_type": "code",
      "source": [
        "from sklearn.feature_extraction import DictVectorizer\n"
      ],
      "metadata": {
        "id": "OM4eJOhnPjsn"
      },
      "execution_count": 177,
      "outputs": []
    },
    {
      "cell_type": "code",
      "source": [
        "df_X_train, df_X_test, df_y_train, df_y_test = train_test_split(df_X, df_y, test_size=0.3, random_state=1)"
      ],
      "metadata": {
        "id": "d2QQPIzJQkEl"
      },
      "execution_count": 178,
      "outputs": []
    },
    {
      "cell_type": "code",
      "source": [
        "df_X_train"
      ],
      "metadata": {
        "colab": {
          "base_uri": "https://localhost:8080/"
        },
        "id": "iAnM1f-pQ3kG",
        "outputId": "9e0988d6-b12d-4a95-e834-9d2118572cbf"
      },
      "execution_count": 179,
      "outputs": [
        {
          "output_type": "execute_result",
          "data": {
            "text/plain": [
              "array([{'first_letter': 'a', 'first2letters': 'al', 'first3letters': 'ale', 'lastletter': 'i', 'last2letters': 'xi', 'last3letters': 'exi'},\n",
              "       {'first_letter': 's', 'first2letters': 'st', 'first3letters': 'ste', 'lastletter': 'd', 'last2letters': 'rd', 'last3letters': 'ard'},\n",
              "       {'first_letter': 'r', 'first2letters': 'ro', 'first3letters': 'rox', 'lastletter': 'i', 'last2letters': 'xi', 'last3letters': 'oxi'},\n",
              "       ...,\n",
              "       {'first_letter': 'l', 'first2letters': 'lu', 'first3letters': 'lud', 'lastletter': 'g', 'last2letters': 'ig', 'last3letters': 'wig'},\n",
              "       {'first_letter': 'h', 'first2letters': 'ha', 'first3letters': 'han', 'lastletter': 'l', 'last2letters': 'el', 'last3letters': 'sel'},\n",
              "       {'first_letter': 'b', 'first2letters': 'be', 'first3letters': 'ben', 'lastletter': 'i', 'last2letters': 'ni', 'last3letters': 'nni'}],\n",
              "      dtype=object)"
            ]
          },
          "metadata": {},
          "execution_count": 179
        }
      ]
    },
    {
      "cell_type": "code",
      "source": [
        "dictvectorizer = DictVectorizer()\n",
        "dictvectorizer.fit_transform(df_X_train)"
      ],
      "metadata": {
        "colab": {
          "base_uri": "https://localhost:8080/"
        },
        "id": "383jAfCvQ5BC",
        "outputId": "16d9d35b-ffd5-4d97-c628-1325b601c284"
      },
      "execution_count": 180,
      "outputs": [
        {
          "output_type": "execute_result",
          "data": {
            "text/plain": [
              "<5560x2923 sparse matrix of type '<class 'numpy.float64'>'\n",
              "\twith 33360 stored elements in Compressed Sparse Row format>"
            ]
          },
          "metadata": {},
          "execution_count": 180
        }
      ]
    },
    {
      "cell_type": "code",
      "source": [
        "#Now let's build a ml model using DecisionTreeClassifier\n",
        "from sklearn.tree import DecisionTreeClassifier\n",
        "dtcl = DecisionTreeClassifier()\n",
        "new_features = dictvectorizer.transform(df_X_train)\n",
        "dtcl.fit(new_features, df_y_train)"
      ],
      "metadata": {
        "colab": {
          "base_uri": "https://localhost:8080/"
        },
        "id": "EAzzxHbFRJkV",
        "outputId": "fab1b4a1-3e5c-46b2-9d69-8de1cd0b299a"
      },
      "execution_count": 182,
      "outputs": [
        {
          "output_type": "execute_result",
          "data": {
            "text/plain": [
              "DecisionTreeClassifier()"
            ]
          },
          "metadata": {},
          "execution_count": 182
        }
      ]
    },
    {
      "cell_type": "code",
      "source": [
        "name = ['Hirsch']\n",
        "transformed_dictvectorizer = dictvectorizer.transform(features(name))"
      ],
      "metadata": {
        "id": "xMO1J_foRu6p"
      },
      "execution_count": 183,
      "outputs": []
    },
    {
      "cell_type": "code",
      "source": [
        "vector = transformed_dictvectorizer.toarray()"
      ],
      "metadata": {
        "id": "NB9jS9q4SgTu"
      },
      "execution_count": 184,
      "outputs": []
    },
    {
      "cell_type": "code",
      "source": [
        "dtcl.predict(vector)"
      ],
      "metadata": {
        "colab": {
          "base_uri": "https://localhost:8080/"
        },
        "id": "3ZJfSg2-SkrA",
        "outputId": "96778d26-2155-48b7-da8e-5ab6a62ecdbd"
      },
      "execution_count": 185,
      "outputs": [
        {
          "output_type": "execute_result",
          "data": {
            "text/plain": [
              "array([1])"
            ]
          },
          "metadata": {},
          "execution_count": 185
        }
      ]
    },
    {
      "cell_type": "code",
      "source": [
        "#As we see, in our first NB classifier Hirsch has been classified as female, but in DT model it has been classified correctly(as a male)\n"
      ],
      "metadata": {
        "id": "aUPznY_vSsW2"
      },
      "execution_count": 186,
      "outputs": []
    },
    {
      "cell_type": "code",
      "source": [
        "if dtcl.predict(vector) == 0:\n",
        "  print('female')\n",
        "else:\n",
        "  print('male')"
      ],
      "metadata": {
        "colab": {
          "base_uri": "https://localhost:8080/"
        },
        "id": "AiHkhg5ZTBJg",
        "outputId": "7920b044-fe0d-4022-b883-738c1570a8d0"
      },
      "execution_count": 187,
      "outputs": [
        {
          "output_type": "stream",
          "name": "stdout",
          "text": [
            "male\n"
          ]
        }
      ]
    },
    {
      "cell_type": "code",
      "source": [
        "#Now let's print accuracy of our model\n",
        "print(dtcl.score(dictvectorizer.transform(df_X_train), df_y_train))"
      ],
      "metadata": {
        "colab": {
          "base_uri": "https://localhost:8080/"
        },
        "id": "vVVgHqaPTMKq",
        "outputId": "4b2914fc-e0cc-4a85-d217-d70159a98989"
      },
      "execution_count": 188,
      "outputs": [
        {
          "output_type": "stream",
          "name": "stdout",
          "text": [
            "0.9652877697841726\n"
          ]
        }
      ]
    },
    {
      "cell_type": "code",
      "source": [
        "print(dtcl.score(dictvectorizer.transform(df_X_test), df_y_test))"
      ],
      "metadata": {
        "colab": {
          "base_uri": "https://localhost:8080/"
        },
        "id": "tIb3nERYTiNM",
        "outputId": "b1b9483e-f54d-4175-ba3f-ea8f65003225"
      },
      "execution_count": 189,
      "outputs": [
        {
          "output_type": "stream",
          "name": "stdout",
          "text": [
            "0.7885906040268457\n"
          ]
        }
      ]
    },
    {
      "cell_type": "code",
      "source": [
        "#As we see DecisionTree classifier better on our dataset than NaiveBayes classifier"
      ],
      "metadata": {
        "id": "QI1m0YBCT49F"
      },
      "execution_count": 190,
      "outputs": []
    },
    {
      "cell_type": "code",
      "source": [
        ""
      ],
      "metadata": {
        "id": "D6H4WotJUQRt"
      },
      "execution_count": null,
      "outputs": []
    }
  ]
}